{
 "cells": [
  {
   "cell_type": "markdown",
   "metadata": {},
   "source": [
    "## Install running environment\n",
    "``` bash\n",
    "conda create --prefix=/path/to/conda_envs/STalign\n",
    "conda activate STalign\n",
    "conda install pip\n",
    "pip install --upgrade \"git+https://github.com/JEFworks-Lab/STalign.git\"\n",
    "```"
   ]
  },
  {
   "cell_type": "code",
   "execution_count": null,
   "metadata": {
    "vscode": {
     "languageId": "plaintext"
    }
   },
   "outputs": [],
   "source": []
  }
 ],
 "metadata": {
  "language_info": {
   "name": "python"
  }
 },
 "nbformat": 4,
 "nbformat_minor": 2
}
