{
 "cells": [
  {
   "cell_type": "code",
   "execution_count": null,
   "metadata": {
    "collapsed": true
   },
   "outputs": [],
   "source": [
    "import numpy as np\n",
    "import matplotlib.pyplot as plt\n",
    "import tifffile as tf\n",
    "import os\n",
    "import pandas as pd\n",
    "from PIL import Image"
   ]
  },
  {
   "cell_type": "code",
   "execution_count": null,
   "outputs": [],
   "source": [
    "corr_fn = \"MxIF_HE_correspondance.csv\"\n",
    "df = pd.read_csv(corr_fn, sep=',')\n",
    "corr_arr = df.values\n",
    "print(corr_arr[0])"
   ],
   "metadata": {
    "collapsed": false
   }
  },
  {
   "cell_type": "code",
   "execution_count": null,
   "outputs": [],
   "source": [
    "scan_plan_dir = r\"\\\\mfad\\researchmn\\HCPR\\HCPR-GYNECOLOGICALTUMORMICROENVIRONMENT\\Archive\\WSI_czi\\MxIF_cor_HE\"\n",
    "scan_plan_vHE_fn = os.path.join(scan_plan_dir, \"01_Scanplan_OVCA_vHE.png\")\n",
    "scan_plan_HE_fn = os.path.join(scan_plan_dir, \"FOV_ids.png\")\n",
    "scan_plan_vHE = Image.open(scan_plan_vHE_fn)\n",
    "scan_plan_HE = Image.open(scan_plan_HE_fn)\n",
    "plt.imshow(scan_plan_vHE)\n",
    "plt.show()\n",
    "plt.imshow(scan_plan_HE)\n",
    "plt.show()\n"
   ],
   "metadata": {
    "collapsed": false,
    "is_executing": true
   }
  },
  {
   "cell_type": "code",
   "execution_count": null,
   "outputs": [],
   "source": [
    "HE_FOV_dir = r\"\\\\mfad\\researchmn\\HCPR\\HCPR-GYNECOLOGICALTUMORMICROENVIRONMENT\\Archive\\WSI_czi\\HE_FOVs\"\n",
    "MxIF_FOV_dir = r\"\\\\mfad\\researchmn\\HCPR\\HCPR-GYNECOLOGICALTUMORMICROENVIRONMENT\\Multiplex_Img\\OVCA_TMA22\\OME_TIFF_Images\"\n",
    "\n",
    "DAPI_idx = 0 # DAPI channel\n",
    "HE_FOV_fn_list = os.listdir(HE_FOV_dir)\n",
    "\n",
    "for c in corr_arr:\n",
    "    mf = 'OVCA_TMA22_region_{0:03d}.ome.tiff'.format(c[0])\n",
    "    print(\"MxIF image: %s\" %mf)\n",
    "    MxIF_FOV_fn = os.path.join(MxIF_FOV_dir, mf)\n",
    "    HE_FOV_fn = \"\"\n",
    "    for vf in HE_FOV_fn_list:\n",
    "        if (\"FOV%d\" %c[1]) in vf:\n",
    "            HE_FOV_fn = os.path.join(HE_FOV_dir, vf)\n",
    "            print(\"vHE image: %s\" %vf)\n",
    "            break\n",
    "\n",
    "    if os.path.exists(MxIF_FOV_fn) and os.path.exists(HE_FOV_fn):\n",
    "        MxIF_FOV = tf.imread(MxIF_FOV_fn)\n",
    "        print(MxIF_FOV.shape)\n",
    "        DAPI_img = np.squeeze(MxIF_FOV[0, :, :])\n",
    "        plt.imshow(DAPI_img, cmap='gray')\n",
    "        plt.show()\n",
    "\n",
    "        vHE_FOV = tf.imread(HE_FOV_fn)\n",
    "        print(vHE_FOV.shape)\n",
    "        plt.imshow(vHE_FOV, cmap='gray')\n",
    "        plt.show()\n",
    "\n",
    "    else:\n",
    "        print(\"Can't find corresponding image pairs\")\n",
    "\n",
    "#####################\n",
    "## Hard to find the correspondence between vHE and MxIF, as the FOV index doesn't match?\n",
    "\n"
   ],
   "metadata": {
    "collapsed": false
   }
  },
  {
   "cell_type": "code",
   "execution_count": null,
   "outputs": [],
   "source": [],
   "metadata": {
    "collapsed": false
   }
  }
 ],
 "metadata": {
  "kernelspec": {
   "display_name": "Python 3",
   "language": "python",
   "name": "python3"
  },
  "language_info": {
   "codemirror_mode": {
    "name": "ipython",
    "version": 2
   },
   "file_extension": ".py",
   "mimetype": "text/x-python",
   "name": "python",
   "nbconvert_exporter": "python",
   "pygments_lexer": "ipython2",
   "version": "2.7.6"
  }
 },
 "nbformat": 4,
 "nbformat_minor": 0
}
